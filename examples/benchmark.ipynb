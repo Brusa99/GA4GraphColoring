{
 "cells": [
  {
   "cell_type": "markdown",
   "source": [
    "# Benchmarks\n",
    "\n",
    "In this notebook we compare the performance of the two genetic algorithms against each other and against a random search and a dynamic programming algorithm.\n",
    "\n",
    "## Disclaimer\n",
    "\n",
    "This is a very simple benchmark and should not be taken as a definitive proof of the performance of the algorithms.\n",
    "A more proper benchmark would require a more extensive set of tests and a more detailed analysis of the results.\n",
    "\n",
    "It should also be noted that the genetic algorithms are stochastic and the results may vary from run to run.\n",
    "As such multiple runs should be performed to have a more accurate estimate of the performance of the algorithms.\n",
    "\n",
    "Moreover, other factors other than time should be considered to assess the quality of an algorithmm.\n",
    "\n",
    "#### On genetic algorithms implementation\n",
    "\n",
    "The goal of the project was to implement genetic algorithms for the graph coloring problem.\n",
    "We implemented a problem-specific version of the algorithm that requires fewer generations to converge.\n",
    "Pure **time** performance was not the main goal of the project.\n",
    "As such the implementation could be improved to be faster.\n"
   ],
   "metadata": {
    "collapsed": false
   },
   "id": "76a0f85626d842af"
  },
  {
   "cell_type": "code",
   "execution_count": 28,
   "outputs": [],
   "source": [
    "import sys\n",
    "sys.path.append('..')\n",
    "import ga4graphcoloring as ga\n",
    "import numpy as np\n",
    "import time"
   ],
   "metadata": {
    "collapsed": false,
    "ExecuteTime": {
     "end_time": "2024-03-13T16:51:08.895907095Z",
     "start_time": "2024-03-13T16:51:08.854256578Z"
    }
   },
   "id": "6a16f5e735d66457"
  },
  {
   "cell_type": "code",
   "execution_count": 29,
   "outputs": [],
   "source": [
    "def score(solution, graph):\n",
    "    fitness = 0\n",
    "    # color of a vertex is given by the value stored the corresponding index of the individual\n",
    "    for color, adj_row in zip(solution, graph.adj_matrix):\n",
    "        # check if the vertex has the same color as any of its neighbours\n",
    "        for vertex in adj_row.nonzero()[0]:  # only iter on adjacent vertices\n",
    "            if color == solution[vertex]:\n",
    "                fitness += 1\n",
    "    # fitness is halved as we count each edge twice\n",
    "    return fitness // 2\n",
    "\n",
    "# define random search algorithm\n",
    "def random_search(max_colors: int, graph: ga.Graph, max_iter=100_000):\n",
    "    best_fitness = np.inf\n",
    "    best_solution = None\n",
    "    for i in range(max_iter):\n",
    "        solution = np.random.randint(0, max_colors, graph.n_vertices)\n",
    "        fitness = score(solution, graph)\n",
    "        if fitness < best_fitness:\n",
    "            best_score = score\n",
    "            best_solution = solution\n",
    "    return best_solution, best_fitness\n",
    "\n",
    "# define dynamic programming algorithm\n",
    "def dynamic_programming(max_colors: int, graph: ga.Graph):\n",
    "    \"\"\"Original [source](https://www.geeksforgeeks.org/m-coloring-problem/) has been adapted to our graph representation.\"\"\"\n",
    "    \n",
    "    def is_safe(vertex, color, color_assignment):\n",
    "        for v in range(len(graph.adj_matrix)):\n",
    "            if graph.adj_matrix[vertex][v] and v in color_assignment and color_assignment[v] == color:\n",
    "                return False\n",
    "        return True\n",
    "\n",
    "    def dfs(vertex, color_assignment):\n",
    "        if vertex not in color_assignment:\n",
    "            for color in range(max_colors):\n",
    "                if is_safe(vertex, color, color_assignment):\n",
    "                    color_assignment[vertex] = color\n",
    "                    if all(dfs(next_vertex, color_assignment) for next_vertex in range(len(graph.adj_matrix))):\n",
    "                        return True\n",
    "                    color_assignment.pop(vertex)\n",
    "            return False\n",
    "        return True\n",
    "\n",
    "    color_assignment = {}\n",
    "    if dfs(0, color_assignment):\n",
    "        return True, color_assignment\n",
    "    else:\n",
    "        return False, {}\n"
   ],
   "metadata": {
    "collapsed": false,
    "ExecuteTime": {
     "end_time": "2024-03-13T16:51:09.381541724Z",
     "start_time": "2024-03-13T16:51:09.370887302Z"
    }
   },
   "id": "354bc0263dcf3bbb"
  },
  {
   "cell_type": "code",
   "execution_count": 31,
   "outputs": [],
   "source": [
    "# generate a random graph\n",
    "N_VERTICES = 200\n",
    "DENSITY = 0.54\n",
    "\n",
    "graph = ga.Graph(N_VERTICES, DENSITY)"
   ],
   "metadata": {
    "collapsed": false,
    "ExecuteTime": {
     "end_time": "2024-03-13T16:51:16.776147740Z",
     "start_time": "2024-03-13T16:51:16.772488201Z"
    }
   },
   "id": "ec374d7cbe2095b4"
  },
  {
   "cell_type": "code",
   "execution_count": 32,
   "outputs": [],
   "source": [
    "def benchmark(max_colors: int, graph: ga.Graph, max_evolutions=250):\n",
    "    times = []\n",
    "    founds = []\n",
    "\n",
    "    # dynamic programming\n",
    "    print('Dynamic programming')\n",
    "    start = time.time()\n",
    "    found, _ = dynamic_programming(max_colors, graph)\n",
    "    end = time.time()\n",
    "\n",
    "    times.append(end - start)\n",
    "    founds.append(found)\n",
    "    print(f'Best fitness: {0}, time: {end - start:.2f}, found: {found}')\n",
    "    \n",
    "    # random search\n",
    "    print('Random search')\n",
    "    start = time.time()\n",
    "    best_solution, best_fitness = random_search(max_colors, graph)\n",
    "    end = time.time()\n",
    "    \n",
    "    times.append(end - start)\n",
    "    founds.append(best_fitness == 0)\n",
    "    print(f'Best fitness: {best_fitness}, time: {end - start:.2f}, found: {best_fitness == 0}')    \n",
    "    \n",
    "    # standard ga\n",
    "    print('Standard GA')\n",
    "    pop = ga.Population(max_colors, 100, graph)\n",
    "    \n",
    "    start = time.time()\n",
    "    for i in range(max_evolutions):\n",
    "        pop.evolve()\n",
    "        if pop.best_fitness == 0:\n",
    "            break\n",
    "    end = time.time()\n",
    "    \n",
    "    times.append(end - start)\n",
    "    founds.append(pop.best_fitness == 0)\n",
    "    print(f'Best fitness: {pop.best_fitness}, time: {end - start:.2f}, found: {pop.best_fitness == 0}')\n",
    "    \n",
    "    # smart ga\n",
    "    print('Smart GA')\n",
    "    pop = ga.SmartPopulation(max_colors, 50, graph)\n",
    "    \n",
    "    start = time.time()\n",
    "    for i in range(max_evolutions):\n",
    "        pop.evolve()\n",
    "        if pop.best_fitness == 0:\n",
    "            break\n",
    "    end = time.time()\n",
    "    \n",
    "    times.append(end - start)\n",
    "    founds.append(pop.best_fitness == 0)\n",
    "    print(f'Best fitness: {pop.best_fitness}, time: {end - start:.2f}, found: {pop.best_fitness == 0}')\n",
    "    return times, founds"
   ],
   "metadata": {
    "collapsed": false,
    "ExecuteTime": {
     "end_time": "2024-03-13T16:51:19.986556870Z",
     "start_time": "2024-03-13T16:51:19.981041147Z"
    }
   },
   "id": "d5e2bfc28315ad4f"
  },
  {
   "cell_type": "code",
   "execution_count": 33,
   "outputs": [
    {
     "name": "stdout",
     "output_type": "stream",
     "text": [
      "Dynamic programming\n",
      "Best fitness: 0, time: 0.06, found: True\n",
      "Random search\n",
      "Best fitness: inf, time: 415.25, found: False\n",
      "Standard GA\n",
      "Best fitness: 1, time: 1039.00, found: False\n",
      "Smart GA\n",
      "Best fitness: 0, time: 3.50, found: True\n"
     ]
    },
    {
     "data": {
      "text/plain": "([0.06263422966003418,\n  415.2542190551758,\n  1039.003441810608,\n  3.4980647563934326],\n [True, False, False, True])"
     },
     "execution_count": 33,
     "metadata": {},
     "output_type": "execute_result"
    }
   ],
   "source": [
    "benchmark(62, graph)"
   ],
   "metadata": {
    "collapsed": false,
    "ExecuteTime": {
     "end_time": "2024-03-13T17:16:10.322188187Z",
     "start_time": "2024-03-13T16:51:51.827610486Z"
    }
   },
   "id": "3900abc0b0c1f05b"
  },
  {
   "cell_type": "markdown",
   "source": [
    "## Conclusions\n",
    "\n",
    "The _dynamic programming_ algorithm is the fastest.\n",
    "Both _dynamic programming_ and _smart GA_ algorithms are able to find the optimal solution in a reasonable amount of time.\n",
    "As expected, the _random search_ algorithm is  not able to find the optimal solution in a reasonable amount of time.\n",
    "\n",
    "The _standard GA_ algorithm is not able to find the optimal solution in a reasonable amount of generations.\n",
    "This is probably due to the fact that the algorithm gets stuck in a local optima. To reach the global optima many vertexes need to change color at the same time, which is unlikely to happen in a single generation.\n"
   ],
   "metadata": {
    "collapsed": false
   },
   "id": "fa49e850da1ddf2d"
  }
 ],
 "metadata": {
  "kernelspec": {
   "display_name": "Python 3",
   "language": "python",
   "name": "python3"
  },
  "language_info": {
   "codemirror_mode": {
    "name": "ipython",
    "version": 2
   },
   "file_extension": ".py",
   "mimetype": "text/x-python",
   "name": "python",
   "nbconvert_exporter": "python",
   "pygments_lexer": "ipython2",
   "version": "2.7.6"
  }
 },
 "nbformat": 4,
 "nbformat_minor": 5
}
